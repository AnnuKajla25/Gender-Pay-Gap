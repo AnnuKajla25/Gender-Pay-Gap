{
 "cells": [
  {
   "cell_type": "code",
   "execution_count": 175,
   "id": "8468df77",
   "metadata": {},
   "outputs": [],
   "source": [
    "# import Libraries\n",
    "import pandas as pd\n",
    "import plotly.express as px\n",
    "import matplotlib.pyplot as plt\n",
    "import seaborn as sns\n",
    "from xgboost import XGBRegressor\n",
    "from sklearn.metrics import r2_score\n",
    "import numpy as np\n",
    "from sklearn.model_selection import train_test_split, GridSearchCV\n",
    "import datetime\n",
    "from sklearn import metrics\n",
    "from sklearn.ensemble import BaggingRegressor,RandomForestRegressor"
   ]
  },
  {
   "cell_type": "code",
   "execution_count": 176,
   "id": "84dd4664",
   "metadata": {},
   "outputs": [],
   "source": [
    "# Loading Dataset\n",
    "function= pd.read_csv ('Function.csv')\n",
    "Main_dataset= pd.read_csv ('Main_dataset.csv')\n",
    "PartTime= pd.read_csv ('PartTime.csv')"
   ]
  },
  {
   "cell_type": "markdown",
   "id": "cc78dbbb",
   "metadata": {},
   "source": [
    "#### Merge all three tables"
   ]
  },
  {
   "cell_type": "code",
   "execution_count": 192,
   "id": "6df03ef1",
   "metadata": {},
   "outputs": [
    {
     "data": {
      "text/html": [
       "<div>\n",
       "<style scoped>\n",
       "    .dataframe tbody tr th:only-of-type {\n",
       "        vertical-align: middle;\n",
       "    }\n",
       "\n",
       "    .dataframe tbody tr th {\n",
       "        vertical-align: top;\n",
       "    }\n",
       "\n",
       "    .dataframe thead th {\n",
       "        text-align: right;\n",
       "    }\n",
       "</style>\n",
       "<table border=\"1\" class=\"dataframe\">\n",
       "  <thead>\n",
       "    <tr style=\"text-align: right;\">\n",
       "      <th></th>\n",
       "      <th>Person_ID</th>\n",
       "      <th>Gender</th>\n",
       "      <th>Age</th>\n",
       "      <th>LengthOfService</th>\n",
       "      <th>Admin Role</th>\n",
       "      <th>International Assignee</th>\n",
       "      <th>Is Mobile</th>\n",
       "      <th>YearlyPay</th>\n",
       "      <th>Function</th>\n",
       "      <th>PartTime</th>\n",
       "    </tr>\n",
       "  </thead>\n",
       "  <tbody>\n",
       "    <tr>\n",
       "      <th>0</th>\n",
       "      <td>0</td>\n",
       "      <td>woman</td>\n",
       "      <td>38.820262</td>\n",
       "      <td>8.012028</td>\n",
       "      <td>0</td>\n",
       "      <td>0</td>\n",
       "      <td>0</td>\n",
       "      <td>71933.63763</td>\n",
       "      <td>Finance</td>\n",
       "      <td>PartTime</td>\n",
       "    </tr>\n",
       "    <tr>\n",
       "      <th>1</th>\n",
       "      <td>1</td>\n",
       "      <td>woman</td>\n",
       "      <td>32.000786</td>\n",
       "      <td>9.505542</td>\n",
       "      <td>0</td>\n",
       "      <td>0</td>\n",
       "      <td>0</td>\n",
       "      <td>110599.73950</td>\n",
       "      <td>Finance</td>\n",
       "      <td>FullTime</td>\n",
       "    </tr>\n",
       "    <tr>\n",
       "      <th>2</th>\n",
       "      <td>2</td>\n",
       "      <td>woman</td>\n",
       "      <td>34.893690</td>\n",
       "      <td>8.464881</td>\n",
       "      <td>0</td>\n",
       "      <td>0</td>\n",
       "      <td>1</td>\n",
       "      <td>152840.31170</td>\n",
       "      <td>IT</td>\n",
       "      <td>FullTime</td>\n",
       "    </tr>\n",
       "    <tr>\n",
       "      <th>3</th>\n",
       "      <td>3</td>\n",
       "      <td>woman</td>\n",
       "      <td>41.204466</td>\n",
       "      <td>9.183001</td>\n",
       "      <td>0</td>\n",
       "      <td>0</td>\n",
       "      <td>\"0\"</td>\n",
       "      <td>122468.96600</td>\n",
       "      <td>Finance</td>\n",
       "      <td>FullTime</td>\n",
       "    </tr>\n",
       "    <tr>\n",
       "      <th>4</th>\n",
       "      <td>4</td>\n",
       "      <td>woman</td>\n",
       "      <td>39.337790</td>\n",
       "      <td>5.957711</td>\n",
       "      <td>0</td>\n",
       "      <td>0</td>\n",
       "      <td>0</td>\n",
       "      <td>123796.48750</td>\n",
       "      <td>IT</td>\n",
       "      <td>FullTime</td>\n",
       "    </tr>\n",
       "  </tbody>\n",
       "</table>\n",
       "</div>"
      ],
      "text/plain": [
       "   Person_ID Gender        Age  LengthOfService  Admin Role   \n",
       "0          0  woman  38.820262         8.012028           0  \\\n",
       "1          1  woman  32.000786         9.505542           0   \n",
       "2          2  woman  34.893690         8.464881           0   \n",
       "3          3  woman  41.204466         9.183001           0   \n",
       "4          4  woman  39.337790         5.957711           0   \n",
       "\n",
       "   International Assignee Is Mobile     YearlyPay Function  PartTime  \n",
       "0                       0         0   71933.63763  Finance  PartTime  \n",
       "1                       0         0  110599.73950  Finance  FullTime  \n",
       "2                       0         1  152840.31170       IT  FullTime  \n",
       "3                       0       \"0\"  122468.96600  Finance  FullTime  \n",
       "4                       0         0  123796.48750       IT  FullTime  "
      ]
     },
     "execution_count": 192,
     "metadata": {},
     "output_type": "execute_result"
    }
   ],
   "source": [
    "df=pd.merge(Main_dataset,function,on=\"Person_ID\",how=\"inner\")\n",
    "df=pd.merge(df,PartTime,on=\"Person_ID\",how=\"inner\")\n",
    "df.head()"
   ]
  },
  {
   "cell_type": "code",
   "execution_count": null,
   "id": "e4d0bc2a",
   "metadata": {},
   "outputs": [],
   "source": [
    "# from pandas_profiling import ProfileReport\n",
    "# prof = ProfileReport(df)\n",
    "# prof"
   ]
  },
  {
   "cell_type": "markdown",
   "id": "6e532a65",
   "metadata": {},
   "source": [
    "### 1.Verifying whether there is Gender Pay Gap in industry wise"
   ]
  },
  {
   "cell_type": "code",
   "execution_count": 193,
   "id": "06c0a112",
   "metadata": {},
   "outputs": [
    {
     "data": {
      "text/plain": [
       "Function\n",
       "IT              8340\n",
       "Supply Chain    6911\n",
       "Finance         2749\n",
       "Name: count, dtype: int64"
      ]
     },
     "execution_count": 193,
     "metadata": {},
     "output_type": "execute_result"
    }
   ],
   "source": [
    "df['Function'].value_counts()"
   ]
  },
  {
   "cell_type": "code",
   "execution_count": 179,
   "id": "56be1958",
   "metadata": {},
   "outputs": [],
   "source": [
    "# average pay gap by industry\n",
    "def avg_pay_gap(industry):\n",
    "    man_count=df[(df['Gender']==\"man\") & (df[\"Function\"]==industry)][\"Person_ID\"].count()\n",
    "    woman_count=df[(df['Gender']==\"woman\") & (df[\"Function\"]==industry)][\"Person_ID\"].count()\n",
    "    man_avg_pay=df[(df['Gender']=='man') & (df[\"Function\"]==industry)]['YearlyPay'].sum()/man_count\n",
    "    print(\"man\",man_count)\n",
    "    print(\"Woman\",woman_count)\n",
    "    woman_avg_pay=df[(df['Gender']=='woman')& (df[\"Function\"]==industry) ]['YearlyPay'].sum()/woman_count\n",
    "    gender_pay_gap=((man_avg_pay-woman_avg_pay)/man_avg_pay)*100\n",
    "    return gender_pay_gap"
   ]
  },
  {
   "cell_type": "code",
   "execution_count": 180,
   "id": "3deed2dd",
   "metadata": {},
   "outputs": [
    {
     "name": "stdout",
     "output_type": "stream",
     "text": [
      "man 2338\n",
      "Woman 6002\n",
      "man 765\n",
      "Woman 1984\n",
      "man 4897\n",
      "Woman 2014\n",
      "Average pay gap in IT Function : 37.76979455301573\n",
      "Average pay gap in Finance function : 48.995657418328186\n",
      "Average pay gap in supply chain function : 26.01553114631442\n"
     ]
    }
   ],
   "source": [
    "avg_pay_gap_IT=avg_pay_gap(\"IT\")\n",
    "avg_pay_gap_Finance=avg_pay_gap(\"Finance\")\n",
    "avg_pay_gap_Supply_chain=avg_pay_gap(\"Supply Chain\")\n",
    "print(\"Average pay gap in IT Function :\",avg_pay_gap_IT)\n",
    "print(\"Average pay gap in Finance function :\",avg_pay_gap_Finance)\n",
    "print(\"Average pay gap in supply chain function :\",avg_pay_gap_Supply_chain)"
   ]
  },
  {
   "cell_type": "markdown",
   "id": "9ee3fe5b",
   "metadata": {},
   "source": [
    "#### avg pay gap between gender considering the admin role as well"
   ]
  },
  {
   "cell_type": "code",
   "execution_count": 188,
   "id": "667c75d4",
   "metadata": {},
   "outputs": [],
   "source": [
    "# avg paygap in admin role\n",
    "def avg_pay_gap_admin(industry,admin):\n",
    "    man_count=df[(df['Gender']==\"man\") & (df[\"Function\"]==industry) & (df[\"Admin Role\"]==admin)][\"Person_ID\"].count()\n",
    "    woman_count=df[(df['Gender']==\"woman\") & (df[\"Function\"]==industry)& (df[\"Admin Role\"]==admin)][\"Person_ID\"].count()\n",
    "    man_avg_pay=df[(df['Gender']=='man') & (df[\"Function\"]==industry) & (df[\"Admin Role\"]==admin)]['YearlyPay'].sum()/man_count\n",
    "    woman_avg_pay=df[(df['Gender']=='woman')& (df[\"Function\"]==industry) & (df[\"Admin Role\"]==admin)]['YearlyPay'].sum()/woman_count\n",
    "    gender_pay_gap=((man_avg_pay-woman_avg_pay)/man_avg_pay)*100\n",
    "    return gender_pay_gap\n"
   ]
  },
  {
   "cell_type": "code",
   "execution_count": 189,
   "id": "92a27434",
   "metadata": {},
   "outputs": [
    {
     "name": "stdout",
     "output_type": "stream",
     "text": [
      "Admin function level gender pay gap\n",
      "Average pay gap in IT Function admin : 8.710307901974609\n",
      "Average pay gap in Finance function admin: 31.187453147741206\n",
      "Average pay gap in supply chain function admin: 2.7698665072200535\n",
      "\n",
      " Non admin function level gender pay gap \n",
      "\n",
      "Average pay gap in IT Function not admin : 34.30880239606328\n",
      "Average pay gap in Finance function not admin: 46.572629338986\n",
      "Average pay gap in supply chain function not admin: 24.182621375278995\n"
     ]
    }
   ],
   "source": [
    "print(\"Admin function level gender pay gap\")\n",
    "avg_pay_gap_IT_admin=avg_pay_gap_admin(\"IT\",1)\n",
    "avg_pay_gap_Finance_admin=avg_pay_gap_admin(\"Finance\",1)\n",
    "avg_pay_gap_Supply_chain_admin=avg_pay_gap_admin(\"Supply Chain\",1)\n",
    "print(\"Average pay gap in IT Function admin :\",avg_pay_gap_IT_admin)\n",
    "print(\"Average pay gap in Finance function admin:\",avg_pay_gap_Finance_admin)\n",
    "print(\"Average pay gap in supply chain function admin:\",avg_pay_gap_Supply_chain_admin)\n",
    "print(\"\\n Non admin function level gender pay gap \\n\")\n",
    "avg_pay_gap_IT_notadmin=avg_pay_gap_admin(\"IT\",0)\n",
    "avg_pay_gap_Finance_notadmin=avg_pay_gap_admin(\"Finance\",0)\n",
    "avg_pay_gap_Supply_chain_notadmin=avg_pay_gap_admin(\"Supply Chain\",0)\n",
    "print(\"Average pay gap in IT Function not admin :\",avg_pay_gap_IT_notadmin)\n",
    "print(\"Average pay gap in Finance function not admin:\",avg_pay_gap_Finance_notadmin)\n",
    "print(\"Average pay gap in supply chain function not admin:\",avg_pay_gap_Supply_chain_notadmin)"
   ]
  },
  {
   "cell_type": "code",
   "execution_count": 183,
   "id": "232ef3d5",
   "metadata": {},
   "outputs": [
    {
     "name": "stdout",
     "output_type": "stream",
     "text": [
      "128815.71372979374\n",
      "96495.18956745102\n"
     ]
    },
    {
     "data": {
      "text/plain": [
       "25.090513592261626"
      ]
     },
     "execution_count": 183,
     "metadata": {},
     "output_type": "execute_result"
    }
   ],
   "source": [
    "man_avg_pay=df[df['Gender']=='man']['YearlyPay'].sum()/df[df['Gender']==\"man\"][\"Person_ID\"].count()\n",
    "print(man_avg_pay)\n",
    "woman_avg_pay=df[df['Gender']=='woman']['YearlyPay'].sum()/df[df['Gender']==\"woman\"][\"Person_ID\"].count()\n",
    "print(woman_avg_pay)\n",
    "gender_pay_gap=((man_avg_pay-woman_avg_pay)/man_avg_pay)*100\n",
    "gender_pay_gap"
   ]
  },
  {
   "cell_type": "markdown",
   "id": "bfe8ab25",
   "metadata": {},
   "source": [
    "##### This means that,woman are paid 25% less than man. This clearly indicates that there is "
   ]
  },
  {
   "cell_type": "markdown",
   "id": "6f9fe125",
   "metadata": {},
   "source": [
    "### Exploratory Data Analysis"
   ]
  },
  {
   "cell_type": "code",
   "execution_count": 184,
   "id": "4ff72ffb",
   "metadata": {},
   "outputs": [
    {
     "data": {
      "text/html": [
       "<div>\n",
       "<style scoped>\n",
       "    .dataframe tbody tr th:only-of-type {\n",
       "        vertical-align: middle;\n",
       "    }\n",
       "\n",
       "    .dataframe tbody tr th {\n",
       "        vertical-align: top;\n",
       "    }\n",
       "\n",
       "    .dataframe thead th {\n",
       "        text-align: right;\n",
       "    }\n",
       "</style>\n",
       "<table border=\"1\" class=\"dataframe\">\n",
       "  <thead>\n",
       "    <tr style=\"text-align: right;\">\n",
       "      <th></th>\n",
       "      <th>count</th>\n",
       "      <th>mean</th>\n",
       "      <th>std</th>\n",
       "      <th>min</th>\n",
       "      <th>25%</th>\n",
       "      <th>50%</th>\n",
       "      <th>75%</th>\n",
       "      <th>max</th>\n",
       "    </tr>\n",
       "  </thead>\n",
       "  <tbody>\n",
       "    <tr>\n",
       "      <th>Age</th>\n",
       "      <td>18000.0</td>\n",
       "      <td>32.196548</td>\n",
       "      <td>5.572258</td>\n",
       "      <td>11.299497</td>\n",
       "      <td>28.381209</td>\n",
       "      <td>32.143558</td>\n",
       "      <td>35.982193</td>\n",
       "      <td>5.299155e+01</td>\n",
       "    </tr>\n",
       "    <tr>\n",
       "      <th>LengthOfService</th>\n",
       "      <td>18000.0</td>\n",
       "      <td>8.878391</td>\n",
       "      <td>2.230466</td>\n",
       "      <td>0.000000</td>\n",
       "      <td>7.374375</td>\n",
       "      <td>8.872595</td>\n",
       "      <td>10.404389</td>\n",
       "      <td>1.760769e+01</td>\n",
       "    </tr>\n",
       "    <tr>\n",
       "      <th>YearlyPay</th>\n",
       "      <td>18000.0</td>\n",
       "      <td>110859.866973</td>\n",
       "      <td>150569.913375</td>\n",
       "      <td>27363.696690</td>\n",
       "      <td>73705.313890</td>\n",
       "      <td>90120.110635</td>\n",
       "      <td>118930.279750</td>\n",
       "      <td>3.574693e+06</td>\n",
       "    </tr>\n",
       "    <tr>\n",
       "      <th>Admin Role</th>\n",
       "      <td>18000.0</td>\n",
       "      <td>0.171444</td>\n",
       "      <td>0.376907</td>\n",
       "      <td>0.000000</td>\n",
       "      <td>0.000000</td>\n",
       "      <td>0.000000</td>\n",
       "      <td>0.000000</td>\n",
       "      <td>1.000000e+00</td>\n",
       "    </tr>\n",
       "    <tr>\n",
       "      <th>International Assignee</th>\n",
       "      <td>18000.0</td>\n",
       "      <td>0.075833</td>\n",
       "      <td>0.264739</td>\n",
       "      <td>0.000000</td>\n",
       "      <td>0.000000</td>\n",
       "      <td>0.000000</td>\n",
       "      <td>0.000000</td>\n",
       "      <td>1.000000e+00</td>\n",
       "    </tr>\n",
       "  </tbody>\n",
       "</table>\n",
       "</div>"
      ],
      "text/plain": [
       "                          count           mean            std           min   \n",
       "Age                     18000.0      32.196548       5.572258     11.299497  \\\n",
       "LengthOfService         18000.0       8.878391       2.230466      0.000000   \n",
       "YearlyPay               18000.0  110859.866973  150569.913375  27363.696690   \n",
       "Admin Role              18000.0       0.171444       0.376907      0.000000   \n",
       "International Assignee  18000.0       0.075833       0.264739      0.000000   \n",
       "\n",
       "                                 25%           50%            75%   \n",
       "Age                        28.381209     32.143558      35.982193  \\\n",
       "LengthOfService             7.374375      8.872595      10.404389   \n",
       "YearlyPay               73705.313890  90120.110635  118930.279750   \n",
       "Admin Role                  0.000000      0.000000       0.000000   \n",
       "International Assignee      0.000000      0.000000       0.000000   \n",
       "\n",
       "                                 max  \n",
       "Age                     5.299155e+01  \n",
       "LengthOfService         1.760769e+01  \n",
       "YearlyPay               3.574693e+06  \n",
       "Admin Role              1.000000e+00  \n",
       "International Assignee  1.000000e+00  "
      ]
     },
     "execution_count": 184,
     "metadata": {},
     "output_type": "execute_result"
    }
   ],
   "source": [
    "df[['Age','LengthOfService','YearlyPay','Admin Role','International Assignee']].describe().T"
   ]
  },
  {
   "cell_type": "markdown",
   "id": "7054d3d5",
   "metadata": {},
   "source": [
    "#### Summary of Dataset:\n",
    "- There are total of 10 columns and 18K rows in the dataset.\n",
    "- The number of non-null values is 0 i.e. no null value.\n",
    "- There is no duplicate in the dataset\n",
    "- The mean and median value of Age is approx. 32 and 36\n",
    "- The mean and median value of Length of Service is 9\n"
   ]
  },
  {
   "cell_type": "code",
   "execution_count": 194,
   "id": "6bd5d07f",
   "metadata": {},
   "outputs": [
    {
     "data": {
      "text/plain": [
       "Is Mobile\n",
       "0      10872\n",
       "1       7076\n",
       "\"0\"       30\n",
       "\"1\"       22\n",
       "Name: count, dtype: int64"
      ]
     },
     "execution_count": 194,
     "metadata": {},
     "output_type": "execute_result"
    }
   ],
   "source": [
    "df['Is Mobile'].value_counts()\n"
   ]
  },
  {
   "cell_type": "markdown",
   "id": "bd96f6c9",
   "metadata": {},
   "source": [
    "##### there is a discrepancy in Is mobile column"
   ]
  },
  {
   "cell_type": "code",
   "execution_count": 195,
   "id": "9c431cb7",
   "metadata": {},
   "outputs": [
    {
     "data": {
      "text/plain": [
       "Is Mobile\n",
       "0    10902\n",
       "1     7098\n",
       "Name: count, dtype: int64"
      ]
     },
     "execution_count": 195,
     "metadata": {},
     "output_type": "execute_result"
    }
   ],
   "source": [
    "# df[\"Is Mobile\"].astype(str)  \n",
    "# Replacing \"0\",\"1\" by 0 and 1\n",
    "df.loc[(df['Is Mobile'])==\"\\\"0\\\"\", 'Is Mobile']=\"0\"\n",
    "df.loc[(df['Is Mobile'])==\"\\\"1\\\"\", 'Is Mobile']=\"1\"\n",
    "df[\"Is Mobile\"].astype(int)\n",
    "df['Is Mobile'].value_counts()"
   ]
  },
  {
   "cell_type": "code",
   "execution_count": 174,
   "id": "5ea76279",
   "metadata": {},
   "outputs": [],
   "source": []
  },
  {
   "cell_type": "code",
   "execution_count": 159,
   "id": "91e76725",
   "metadata": {},
   "outputs": [],
   "source": []
  },
  {
   "cell_type": "code",
   "execution_count": null,
   "id": "6d1d30d0",
   "metadata": {},
   "outputs": [],
   "source": []
  }
 ],
 "metadata": {
  "kernelspec": {
   "display_name": "Python 3 (ipykernel)",
   "language": "python",
   "name": "python3"
  },
  "language_info": {
   "codemirror_mode": {
    "name": "ipython",
    "version": 3
   },
   "file_extension": ".py",
   "mimetype": "text/x-python",
   "name": "python",
   "nbconvert_exporter": "python",
   "pygments_lexer": "ipython3",
   "version": "3.9.7"
  }
 },
 "nbformat": 4,
 "nbformat_minor": 5
}
